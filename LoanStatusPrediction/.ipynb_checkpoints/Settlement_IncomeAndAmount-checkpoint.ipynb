{
 "cells": [
  {
   "cell_type": "code",
   "execution_count": 20,
   "id": "4da02030-8db0-4d6f-8ba3-2d1f11994561",
   "metadata": {},
   "outputs": [
    {
     "name": "stdout",
     "output_type": "stream",
     "text": [
      "0.7732\n"
     ]
    }
   ],
   "source": [
    "# Status of the loan  \n",
    "#variables: Annual Income, Amount of the Loan\n",
    "\n",
    "import pandas as pd\n",
    "from sklearn.tree import DecisionTreeClassifier\n",
    "from sklearn.model_selection import train_test_split\n",
    "from sklearn.metrics import accuracy_score\n",
    "from sklearn.preprocessing import LabelEncoder\n",
    "\n",
    "fileName = 'filteredData.csv'\n",
    "df = pd.read_csv(fileName)\n",
    "\n",
    "label_encoder = LabelEncoder()\n",
    "df['UpdatedStatus'] = label_encoder.fit_transform(df['UpdatedStatus'])\n",
    "\n",
    "X = df.drop(columns=['status', 'UpdatedStatus'])\n",
    "y = df['UpdatedStatus']\n",
    "\n",
    "X_train, X_test, y_train, y_test = train_test_split(X, y, test_size=0.3)\n",
    "model = DecisionTreeClassifier()\n",
    "model.fit(X_train, y_train)\n",
    "\n",
    "predictions = model.predict(X_test)\n",
    "score = accuracy_score(y_test, predictions)\n",
    "print(score)\n"
   ]
  },
  {
   "cell_type": "code",
   "execution_count": null,
   "id": "ebe52817-b7af-4bb2-b819-72ce1df94035",
   "metadata": {},
   "outputs": [],
   "source": []
  },
  {
   "cell_type": "code",
   "execution_count": 40,
   "id": "361c6fbd-83c9-484a-9495-eb109418f66e",
   "metadata": {},
   "outputs": [
    {
     "name": "stdout",
     "output_type": "stream",
     "text": [
      "0.7422\n"
     ]
    }
   ],
   "source": [
    "# Status of the loan \n",
    "# variables: Amount of the loan, term of the loan, interest rate,\n",
    "#            Home type (Rent, mortgage or Own), Annual Income\n",
    "\n",
    "import pandas as pd\n",
    "from sklearn.tree import DecisionTreeClassifier\n",
    "from sklearn.model_selection import train_test_split\n",
    "from sklearn.metrics import accuracy_score\n",
    "from sklearn.preprocessing import LabelEncoder\n",
    "\n",
    "fileName = 'filteredDataMoreColumns.csv'\n",
    "df = pd.read_csv(fileName)\n",
    "\n",
    "label_encoder = LabelEncoder()\n",
    "df['UpdatedStatus'] = label_encoder.fit_transform(df['UpdatedStatus'])\n",
    "#df['home'] = label_encoder.fit_transform(df['home'])\n",
    "\n",
    "X = df.drop(columns=['status', 'UpdatedStatus', 'home', 'term'])\n",
    "y = df['UpdatedStatus']\n",
    "\n",
    "X_train, X_test, y_train, y_test = train_test_split(X, y, test_size=0.2)\n",
    "model = DecisionTreeClassifier()\n",
    "model.fit(X_train, y_train)\n",
    "\n",
    "predictions = model.predict(X_test)\n",
    "score = accuracy_score(y_test, predictions)\n",
    "print(score)\n"
   ]
  },
  {
   "cell_type": "code",
   "execution_count": null,
   "id": "1d75633c-ccbf-4c21-837c-5b0fbf6161ce",
   "metadata": {},
   "outputs": [],
   "source": []
  },
  {
   "cell_type": "code",
   "execution_count": null,
   "id": "8ed2a1eb-dbfa-421a-883f-2da18d3c1f76",
   "metadata": {},
   "outputs": [],
   "source": []
  },
  {
   "cell_type": "code",
   "execution_count": null,
   "id": "ebef1873-0e01-4e61-a91a-241195a043aa",
   "metadata": {},
   "outputs": [],
   "source": []
  }
 ],
 "metadata": {
  "kernelspec": {
   "display_name": "Python 3 (ipykernel)",
   "language": "python",
   "name": "python3"
  },
  "language_info": {
   "codemirror_mode": {
    "name": "ipython",
    "version": 3
   },
   "file_extension": ".py",
   "mimetype": "text/x-python",
   "name": "python",
   "nbconvert_exporter": "python",
   "pygments_lexer": "ipython3",
   "version": "3.10.1"
  }
 },
 "nbformat": 4,
 "nbformat_minor": 5
}
